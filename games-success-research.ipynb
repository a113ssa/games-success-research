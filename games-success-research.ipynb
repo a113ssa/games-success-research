{
 "cells": [
  {
   "cell_type": "code",
   "execution_count": null,
   "metadata": {
    "_cell_guid": "b1076dfc-b9ad-4769-8c92-a6c4dae69d19",
    "_uuid": "8f2839f25d086af736a60e9eeb907d3b93b6e0e5",
    "execution": {
     "iopub.execute_input": "2023-03-25T01:29:48.548490Z",
     "iopub.status.busy": "2023-03-25T01:29:48.548035Z",
     "iopub.status.idle": "2023-03-25T01:29:48.556729Z",
     "shell.execute_reply": "2023-03-25T01:29:48.555289Z",
     "shell.execute_reply.started": "2023-03-25T01:29:48.548450Z"
    }
   },
   "outputs": [],
   "source": [
    "import pandas as pd\n",
    "import numpy as np\n",
    "import matplotlib.pyplot as plt\n",
    "import seaborn as sns\n",
    "%matplotlib inline"
   ]
  },
  {
   "cell_type": "markdown",
   "metadata": {},
   "source": [
    "### Step 1: Define the problem and set your objective"
   ]
  },
  {
   "cell_type": "markdown",
   "metadata": {},
   "source": [
    "**Goal**: predicting the popularity of a video game based on its features, such as genre, platform, publisher, and release year"
   ]
  },
  {
   "cell_type": "markdown",
   "metadata": {},
   "source": [
    "### Step 2: Acquire and explore the dataset"
   ]
  },
  {
   "cell_type": "code",
   "execution_count": null,
   "metadata": {
    "execution": {
     "iopub.execute_input": "2023-03-25T01:29:48.562203Z",
     "iopub.status.busy": "2023-03-25T01:29:48.561787Z",
     "iopub.status.idle": "2023-03-25T01:29:48.628229Z",
     "shell.execute_reply": "2023-03-25T01:29:48.627135Z",
     "shell.execute_reply.started": "2023-03-25T01:29:48.562165Z"
    }
   },
   "outputs": [],
   "source": [
    "df = pd.read_csv('/kaggle/input/popular-video-games-1980-2023/games.csv')\n",
    "df.head(2)"
   ]
  },
  {
   "cell_type": "markdown",
   "metadata": {},
   "source": [
    "**Remove 'Unnamed' feature**:"
   ]
  },
  {
   "cell_type": "code",
   "execution_count": null,
   "metadata": {
    "execution": {
     "iopub.execute_input": "2023-03-25T01:29:48.630702Z",
     "iopub.status.busy": "2023-03-25T01:29:48.630328Z",
     "iopub.status.idle": "2023-03-25T01:29:48.651157Z",
     "shell.execute_reply": "2023-03-25T01:29:48.649895Z",
     "shell.execute_reply.started": "2023-03-25T01:29:48.630670Z"
    }
   },
   "outputs": [],
   "source": [
    "df = df.drop(['Unnamed: 0'], axis=1)\n",
    "df.head(2)"
   ]
  },
  {
   "cell_type": "markdown",
   "metadata": {},
   "source": [
    "#### Data Cleaning\n",
    "by guide from ChatGPT with GPT-4 described [here](https://a113ssa.github.io/writeup/writeup-3/)"
   ]
  },
  {
   "cell_type": "markdown",
   "metadata": {},
   "source": [
    "1. Data Exploration:"
   ]
  },
  {
   "cell_type": "code",
   "execution_count": null,
   "metadata": {
    "execution": {
     "iopub.execute_input": "2023-03-25T01:29:48.652898Z",
     "iopub.status.busy": "2023-03-25T01:29:48.652444Z",
     "iopub.status.idle": "2023-03-25T01:29:48.674467Z",
     "shell.execute_reply": "2023-03-25T01:29:48.673238Z",
     "shell.execute_reply.started": "2023-03-25T01:29:48.652851Z"
    }
   },
   "outputs": [],
   "source": [
    "print(f'General info:\\n{df.describe()}')\n",
    "print()\n",
    "print(f'Data types:\\n{df.dtypes}')\n",
    "print()\n",
    "print(f'NAN values:\\n{df.isna().sum()}')\n",
    "print()\n",
    "print(f'Columns info:\\n{df.columns.to_list()}')"
   ]
  },
  {
   "cell_type": "markdown",
   "metadata": {
    "execution": {
     "iopub.execute_input": "2023-03-23T18:13:36.425452Z",
     "iopub.status.busy": "2023-03-23T18:13:36.425129Z",
     "iopub.status.idle": "2023-03-23T18:13:36.434120Z",
     "shell.execute_reply": "2023-03-23T18:13:36.432944Z",
     "shell.execute_reply.started": "2023-03-23T18:13:36.425426Z"
    }
   },
   "source": [
    "2. Handling Missing Values"
   ]
  },
  {
   "cell_type": "code",
   "execution_count": null,
   "metadata": {
    "execution": {
     "iopub.execute_input": "2023-03-25T01:29:48.678074Z",
     "iopub.status.busy": "2023-03-25T01:29:48.677720Z",
     "iopub.status.idle": "2023-03-25T01:29:48.690852Z",
     "shell.execute_reply": "2023-03-25T01:29:48.689506Z",
     "shell.execute_reply.started": "2023-03-25T01:29:48.678041Z"
    }
   },
   "outputs": [],
   "source": [
    "# Model-based imputation (using KNNImputer from sklearn) of Rating data\n",
    "from sklearn.impute import KNNImputer\n",
    "imputer = KNNImputer(n_neighbors=5)\n",
    "df['Rating'] = imputer.fit_transform(df[['Rating']])"
   ]
  },
  {
   "cell_type": "code",
   "execution_count": null,
   "metadata": {
    "execution": {
     "iopub.execute_input": "2023-03-25T01:29:48.692861Z",
     "iopub.status.busy": "2023-03-25T01:29:48.692499Z",
     "iopub.status.idle": "2023-03-25T01:29:48.703898Z",
     "shell.execute_reply": "2023-03-25T01:29:48.702556Z",
     "shell.execute_reply.started": "2023-03-25T01:29:48.692828Z"
    }
   },
   "outputs": [],
   "source": [
    "# Check what Game is without Team data\n",
    "x = df[df.Team.isna()][['Title', 'Genres']]\n",
    "games_without_team = x.to_csv(header=None, index=False).strip('\\n').split('\\n')\n",
    "print(f'Game with no data about Team: {games_without_team}')"
   ]
  },
  {
   "cell_type": "code",
   "execution_count": null,
   "metadata": {
    "execution": {
     "iopub.execute_input": "2023-03-25T01:29:48.705720Z",
     "iopub.status.busy": "2023-03-25T01:29:48.705391Z",
     "iopub.status.idle": "2023-03-25T01:29:48.721169Z",
     "shell.execute_reply": "2023-03-25T01:29:48.720157Z",
     "shell.execute_reply.started": "2023-03-25T01:29:48.705690Z"
    }
   },
   "outputs": [],
   "source": [
    "# Fill Team by an empty string\n",
    "df.Team = df.Team.fillna('')\n",
    "df.isna().sum()"
   ]
  },
  {
   "cell_type": "markdown",
   "metadata": {},
   "source": [
    "3. Data Transformation"
   ]
  },
  {
   "cell_type": "code",
   "execution_count": null,
   "metadata": {
    "execution": {
     "iopub.execute_input": "2023-03-25T01:29:48.724929Z",
     "iopub.status.busy": "2023-03-25T01:29:48.723300Z",
     "iopub.status.idle": "2023-03-25T01:29:48.754536Z",
     "shell.execute_reply": "2023-03-25T01:29:48.753236Z",
     "shell.execute_reply.started": "2023-03-25T01:29:48.724892Z"
    }
   },
   "outputs": [],
   "source": [
    "#Change K to *1000\n",
    "def convert_to_thousand(x):\n",
    "    if('K' in x):\n",
    "        if len(x)>1:\n",
    "            return int(float(x.replace('K', '')) * 1000)\n",
    "        else:\n",
    "            return 1000\n",
    "    else:\n",
    "        return x\n",
    "    \n",
    "target_features = ['Times Listed', 'Number of Reviews', 'Plays', 'Playing', 'Backlogs', 'Wishlist']\n",
    "\n",
    "for i in target_features:\n",
    "    df[i] = df[i].apply(lambda x: convert_to_thousand(x))\n",
    "            \n",
    "df.head(4)"
   ]
  },
  {
   "cell_type": "code",
   "execution_count": null,
   "metadata": {
    "execution": {
     "iopub.execute_input": "2023-03-25T01:29:48.756826Z",
     "iopub.status.busy": "2023-03-25T01:29:48.756224Z",
     "iopub.status.idle": "2023-03-25T01:29:48.787362Z",
     "shell.execute_reply": "2023-03-25T01:29:48.785935Z",
     "shell.execute_reply.started": "2023-03-25T01:29:48.756779Z"
    }
   },
   "outputs": [],
   "source": [
    "from sklearn.preprocessing import LabelEncoder\n",
    "\n",
    "# Preprocessing steps\n",
    "df['Team_Encoded'] = LabelEncoder().fit_transform(df['Team'])\n",
    "df['Genres_Encoded'] = LabelEncoder().fit_transform(df['Genres'])\n",
    "df['Date_Encoded'] = LabelEncoder().fit_transform(df['Release Date'])\n",
    "df.head(3)"
   ]
  },
  {
   "cell_type": "code",
   "execution_count": null,
   "metadata": {
    "execution": {
     "iopub.execute_input": "2023-03-25T01:29:48.792887Z",
     "iopub.status.busy": "2023-03-25T01:29:48.792480Z",
     "iopub.status.idle": "2023-03-25T01:29:48.984801Z",
     "shell.execute_reply": "2023-03-25T01:29:48.983439Z",
     "shell.execute_reply.started": "2023-03-25T01:29:48.792850Z"
    }
   },
   "outputs": [],
   "source": [
    "df['Release Date'] = pd.to_datetime(df['Release Date'], errors='coerce').dt.date\n",
    "df.head(3)"
   ]
  },
  {
   "cell_type": "markdown",
   "metadata": {
    "execution": {
     "iopub.execute_input": "2023-03-23T19:29:27.981680Z",
     "iopub.status.busy": "2023-03-23T19:29:27.981219Z",
     "iopub.status.idle": "2023-03-23T19:29:28.003833Z",
     "shell.execute_reply": "2023-03-23T19:29:28.002641Z",
     "shell.execute_reply.started": "2023-03-23T19:29:27.981636Z"
    }
   },
   "source": [
    "4. Handling Outliers <br>\n",
    "with the helpt of guide generated by ChatGPT with GPT-4 [here](https://a113ssa.github.io/learn-with-gpt4/handling-outliers/)"
   ]
  },
  {
   "cell_type": "code",
   "execution_count": null,
   "metadata": {
    "execution": {
     "iopub.execute_input": "2023-03-25T01:29:48.988572Z",
     "iopub.status.busy": "2023-03-25T01:29:48.987575Z",
     "iopub.status.idle": "2023-03-25T01:29:49.293447Z",
     "shell.execute_reply": "2023-03-25T01:29:49.292553Z",
     "shell.execute_reply.started": "2023-03-25T01:29:48.988516Z"
    }
   },
   "outputs": [],
   "source": [
    "sns.set(style='whitegrid', palette='muted')\n",
    "plt.figure(figsize=(15, 10))\n",
    "sns.boxplot(data=df)\n",
    "plt.xticks(rotation=45)\n",
    "plt.show()"
   ]
  },
  {
   "cell_type": "code",
   "execution_count": null,
   "metadata": {
    "execution": {
     "iopub.execute_input": "2023-03-25T01:29:49.295691Z",
     "iopub.status.busy": "2023-03-25T01:29:49.294772Z",
     "iopub.status.idle": "2023-03-25T01:29:49.305457Z",
     "shell.execute_reply": "2023-03-25T01:29:49.304609Z",
     "shell.execute_reply.started": "2023-03-25T01:29:49.295655Z"
    }
   },
   "outputs": [],
   "source": [
    "def detect_outliers_iqr(data, threshold=1.5):\n",
    "    Q1 = data.quantile(0.25)\n",
    "    Q3 = data.quantile(0.75)\n",
    "    IQR = Q3 - Q1\n",
    "    lower_bound = Q1 - threshold * IQR\n",
    "    upper_bound = Q3 + threshold * IQR\n",
    "    return ((data < lower_bound) | (data > upper_bound))\n",
    "\n",
    "outliers = detect_outliers_iqr(df['Rating'])\n",
    "print(f\"Number of outliers: {outliers.sum()}\")"
   ]
  },
  {
   "cell_type": "markdown",
   "metadata": {},
   "source": [
    "Validate approach by comparing the performance of a model trained on the original data and the cleaned data:\n"
   ]
  },
  {
   "cell_type": "code",
   "execution_count": null,
   "metadata": {
    "execution": {
     "iopub.execute_input": "2023-03-25T01:29:49.307307Z",
     "iopub.status.busy": "2023-03-25T01:29:49.306727Z",
     "iopub.status.idle": "2023-03-25T01:29:49.351193Z",
     "shell.execute_reply": "2023-03-25T01:29:49.349659Z",
     "shell.execute_reply.started": "2023-03-25T01:29:49.307270Z"
    }
   },
   "outputs": [],
   "source": [
    "from sklearn.model_selection import train_test_split\n",
    "from sklearn.linear_model import LinearRegression\n",
    "from sklearn.metrics import mean_squared_error\n",
    "\n",
    "not_used_features = ['Rating', 'Title', 'Team', 'Genres', 'Release Date', 'Reviews', 'Summary']\n",
    "X = df.drop(not_used_features, axis=1)\n",
    "y = df['Rating']\n",
    "X_train, X_test, y_train, y_test = train_test_split(X, y, test_size=0.2, random_state=42)\n",
    "\n",
    "# Model trained on original data\n",
    "lr = LinearRegression()\n",
    "lr.fit(X_train, y_train)\n",
    "y_pred = lr.predict(X_test)\n",
    "mse = mean_squared_error(y_test, y_pred)\n",
    "print(f\"Mean squared error (original data): {mse}\")\n",
    "\n",
    "data_no_outliers = df[~outliers]\n",
    "\n",
    "X_no_outliers = data_no_outliers.drop(not_used_features, axis=1)\n",
    "y_no_outliers = data_no_outliers['Rating']\n",
    "X_train_no, X_test_no, y_train_no, y_test_no = train_test_split(X_no_outliers, y_no_outliers, test_size=0.2, random_state=42)\n",
    "\n",
    "# Model trained on cleaned data\n",
    "lr_no_outliers = LinearRegression()\n",
    "lr_no_outliers.fit(X_train_no, y_train_no)\n",
    "y_pred_no = lr_no_outliers.predict(X_test_no)\n",
    "mse_no_outliers = mean_squared_error(y_test_no, y_pred_no)\n",
    "print(f\"Mean squared error (cleaned data): {mse_no_outliers}\")\n"
   ]
  },
  {
   "cell_type": "markdown",
   "metadata": {},
   "source": [
    "Lower MSE values indicate better model performance, as they imply smaller differences between the predicted and actual values. In this specific example, the model trained on the original data has a slightly better performance (lower MSE) than the model trained on the cleaned data."
   ]
  },
  {
   "cell_type": "code",
   "execution_count": null,
   "metadata": {},
   "outputs": [],
   "source": []
  }
 ],
 "metadata": {
  "kernelspec": {
   "display_name": "Python 3 (ipykernel)",
   "language": "python",
   "name": "python3"
  },
  "language_info": {
   "codemirror_mode": {
    "name": "ipython",
    "version": 3
   },
   "file_extension": ".py",
   "mimetype": "text/x-python",
   "name": "python",
   "nbconvert_exporter": "python",
   "pygments_lexer": "ipython3",
   "version": "3.10.9"
  }
 },
 "nbformat": 4,
 "nbformat_minor": 4
}
