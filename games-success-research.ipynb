{
 "cells": [
  {
   "cell_type": "code",
   "execution_count": 1,
   "metadata": {
    "_cell_guid": "b1076dfc-b9ad-4769-8c92-a6c4dae69d19",
    "_uuid": "8f2839f25d086af736a60e9eeb907d3b93b6e0e5",
    "execution": {
     "iopub.execute_input": "2023-03-25T01:29:48.548490Z",
     "iopub.status.busy": "2023-03-25T01:29:48.548035Z",
     "iopub.status.idle": "2023-03-25T01:29:48.556729Z",
     "shell.execute_reply": "2023-03-25T01:29:48.555289Z",
     "shell.execute_reply.started": "2023-03-25T01:29:48.548450Z"
    }
   },
   "outputs": [],
   "source": [
    "import pandas as pd\n",
    "import numpy as np\n",
    "import matplotlib.pyplot as plt\n",
    "import seaborn as sns\n",
    "%matplotlib inline"
   ]
  },
  {
   "cell_type": "markdown",
   "metadata": {},
   "source": [
    "### Step 1: Define the problem and set your objective"
   ]
  },
  {
   "cell_type": "markdown",
   "metadata": {},
   "source": [
    "**Goal**: predicting the popularity of a video game based on its features, such as genre, platform, publisher, and release year"
   ]
  },
  {
   "cell_type": "markdown",
   "metadata": {},
   "source": [
    "### Step 2: Acquire and explore the dataset"
   ]
  },
  {
   "cell_type": "code",
   "execution_count": 2,
   "metadata": {
    "execution": {
     "iopub.execute_input": "2023-03-25T01:29:48.562203Z",
     "iopub.status.busy": "2023-03-25T01:29:48.561787Z",
     "iopub.status.idle": "2023-03-25T01:29:48.628229Z",
     "shell.execute_reply": "2023-03-25T01:29:48.627135Z",
     "shell.execute_reply.started": "2023-03-25T01:29:48.562165Z"
    }
   },
   "outputs": [
    {
     "data": {
      "text/html": [
       "<div>\n",
       "<style scoped>\n",
       "    .dataframe tbody tr th:only-of-type {\n",
       "        vertical-align: middle;\n",
       "    }\n",
       "\n",
       "    .dataframe tbody tr th {\n",
       "        vertical-align: top;\n",
       "    }\n",
       "\n",
       "    .dataframe thead th {\n",
       "        text-align: right;\n",
       "    }\n",
       "</style>\n",
       "<table border=\"1\" class=\"dataframe\">\n",
       "  <thead>\n",
       "    <tr style=\"text-align: right;\">\n",
       "      <th></th>\n",
       "      <th>Unnamed: 0</th>\n",
       "      <th>Title</th>\n",
       "      <th>Release Date</th>\n",
       "      <th>Team</th>\n",
       "      <th>Rating</th>\n",
       "      <th>Times Listed</th>\n",
       "      <th>Number of Reviews</th>\n",
       "      <th>Genres</th>\n",
       "      <th>Summary</th>\n",
       "      <th>Reviews</th>\n",
       "      <th>Plays</th>\n",
       "      <th>Playing</th>\n",
       "      <th>Backlogs</th>\n",
       "      <th>Wishlist</th>\n",
       "    </tr>\n",
       "  </thead>\n",
       "  <tbody>\n",
       "    <tr>\n",
       "      <th>0</th>\n",
       "      <td>0</td>\n",
       "      <td>Elden Ring</td>\n",
       "      <td>Feb 25, 2022</td>\n",
       "      <td>['Bandai Namco Entertainment', 'FromSoftware']</td>\n",
       "      <td>4.5</td>\n",
       "      <td>3.9K</td>\n",
       "      <td>3.9K</td>\n",
       "      <td>['Adventure', 'RPG']</td>\n",
       "      <td>Elden Ring is a fantasy, action and open world...</td>\n",
       "      <td>[\"The first playthrough of elden ring is one o...</td>\n",
       "      <td>17K</td>\n",
       "      <td>3.8K</td>\n",
       "      <td>4.6K</td>\n",
       "      <td>4.8K</td>\n",
       "    </tr>\n",
       "    <tr>\n",
       "      <th>1</th>\n",
       "      <td>1</td>\n",
       "      <td>Hades</td>\n",
       "      <td>Dec 10, 2019</td>\n",
       "      <td>['Supergiant Games']</td>\n",
       "      <td>4.3</td>\n",
       "      <td>2.9K</td>\n",
       "      <td>2.9K</td>\n",
       "      <td>['Adventure', 'Brawler', 'Indie', 'RPG']</td>\n",
       "      <td>A rogue-lite hack and slash dungeon crawler in...</td>\n",
       "      <td>['convinced this is a roguelike for people who...</td>\n",
       "      <td>21K</td>\n",
       "      <td>3.2K</td>\n",
       "      <td>6.3K</td>\n",
       "      <td>3.6K</td>\n",
       "    </tr>\n",
       "  </tbody>\n",
       "</table>\n",
       "</div>"
      ],
      "text/plain": [
       "   Unnamed: 0       Title  Release Date  \\\n",
       "0           0  Elden Ring  Feb 25, 2022   \n",
       "1           1       Hades  Dec 10, 2019   \n",
       "\n",
       "                                             Team  Rating Times Listed  \\\n",
       "0  ['Bandai Namco Entertainment', 'FromSoftware']     4.5         3.9K   \n",
       "1                            ['Supergiant Games']     4.3         2.9K   \n",
       "\n",
       "  Number of Reviews                                    Genres  \\\n",
       "0              3.9K                      ['Adventure', 'RPG']   \n",
       "1              2.9K  ['Adventure', 'Brawler', 'Indie', 'RPG']   \n",
       "\n",
       "                                             Summary  \\\n",
       "0  Elden Ring is a fantasy, action and open world...   \n",
       "1  A rogue-lite hack and slash dungeon crawler in...   \n",
       "\n",
       "                                             Reviews Plays Playing Backlogs  \\\n",
       "0  [\"The first playthrough of elden ring is one o...   17K    3.8K     4.6K   \n",
       "1  ['convinced this is a roguelike for people who...   21K    3.2K     6.3K   \n",
       "\n",
       "  Wishlist  \n",
       "0     4.8K  \n",
       "1     3.6K  "
      ]
     },
     "execution_count": 2,
     "metadata": {},
     "output_type": "execute_result"
    }
   ],
   "source": [
    "df = pd.read_csv('games.csv')\n",
    "df.head(2)"
   ]
  },
  {
   "cell_type": "markdown",
   "metadata": {},
   "source": [
    "**Remove 'Unnamed' feature**:"
   ]
  },
  {
   "cell_type": "code",
   "execution_count": 3,
   "metadata": {
    "execution": {
     "iopub.execute_input": "2023-03-25T01:29:48.630702Z",
     "iopub.status.busy": "2023-03-25T01:29:48.630328Z",
     "iopub.status.idle": "2023-03-25T01:29:48.651157Z",
     "shell.execute_reply": "2023-03-25T01:29:48.649895Z",
     "shell.execute_reply.started": "2023-03-25T01:29:48.630670Z"
    }
   },
   "outputs": [
    {
     "data": {
      "text/html": [
       "<div>\n",
       "<style scoped>\n",
       "    .dataframe tbody tr th:only-of-type {\n",
       "        vertical-align: middle;\n",
       "    }\n",
       "\n",
       "    .dataframe tbody tr th {\n",
       "        vertical-align: top;\n",
       "    }\n",
       "\n",
       "    .dataframe thead th {\n",
       "        text-align: right;\n",
       "    }\n",
       "</style>\n",
       "<table border=\"1\" class=\"dataframe\">\n",
       "  <thead>\n",
       "    <tr style=\"text-align: right;\">\n",
       "      <th></th>\n",
       "      <th>Title</th>\n",
       "      <th>Release Date</th>\n",
       "      <th>Team</th>\n",
       "      <th>Rating</th>\n",
       "      <th>Times Listed</th>\n",
       "      <th>Number of Reviews</th>\n",
       "      <th>Genres</th>\n",
       "      <th>Summary</th>\n",
       "      <th>Reviews</th>\n",
       "      <th>Plays</th>\n",
       "      <th>Playing</th>\n",
       "      <th>Backlogs</th>\n",
       "      <th>Wishlist</th>\n",
       "    </tr>\n",
       "  </thead>\n",
       "  <tbody>\n",
       "    <tr>\n",
       "      <th>0</th>\n",
       "      <td>Elden Ring</td>\n",
       "      <td>Feb 25, 2022</td>\n",
       "      <td>['Bandai Namco Entertainment', 'FromSoftware']</td>\n",
       "      <td>4.5</td>\n",
       "      <td>3.9K</td>\n",
       "      <td>3.9K</td>\n",
       "      <td>['Adventure', 'RPG']</td>\n",
       "      <td>Elden Ring is a fantasy, action and open world...</td>\n",
       "      <td>[\"The first playthrough of elden ring is one o...</td>\n",
       "      <td>17K</td>\n",
       "      <td>3.8K</td>\n",
       "      <td>4.6K</td>\n",
       "      <td>4.8K</td>\n",
       "    </tr>\n",
       "    <tr>\n",
       "      <th>1</th>\n",
       "      <td>Hades</td>\n",
       "      <td>Dec 10, 2019</td>\n",
       "      <td>['Supergiant Games']</td>\n",
       "      <td>4.3</td>\n",
       "      <td>2.9K</td>\n",
       "      <td>2.9K</td>\n",
       "      <td>['Adventure', 'Brawler', 'Indie', 'RPG']</td>\n",
       "      <td>A rogue-lite hack and slash dungeon crawler in...</td>\n",
       "      <td>['convinced this is a roguelike for people who...</td>\n",
       "      <td>21K</td>\n",
       "      <td>3.2K</td>\n",
       "      <td>6.3K</td>\n",
       "      <td>3.6K</td>\n",
       "    </tr>\n",
       "  </tbody>\n",
       "</table>\n",
       "</div>"
      ],
      "text/plain": [
       "        Title  Release Date                                            Team  \\\n",
       "0  Elden Ring  Feb 25, 2022  ['Bandai Namco Entertainment', 'FromSoftware']   \n",
       "1       Hades  Dec 10, 2019                            ['Supergiant Games']   \n",
       "\n",
       "   Rating Times Listed Number of Reviews  \\\n",
       "0     4.5         3.9K              3.9K   \n",
       "1     4.3         2.9K              2.9K   \n",
       "\n",
       "                                     Genres  \\\n",
       "0                      ['Adventure', 'RPG']   \n",
       "1  ['Adventure', 'Brawler', 'Indie', 'RPG']   \n",
       "\n",
       "                                             Summary  \\\n",
       "0  Elden Ring is a fantasy, action and open world...   \n",
       "1  A rogue-lite hack and slash dungeon crawler in...   \n",
       "\n",
       "                                             Reviews Plays Playing Backlogs  \\\n",
       "0  [\"The first playthrough of elden ring is one o...   17K    3.8K     4.6K   \n",
       "1  ['convinced this is a roguelike for people who...   21K    3.2K     6.3K   \n",
       "\n",
       "  Wishlist  \n",
       "0     4.8K  \n",
       "1     3.6K  "
      ]
     },
     "execution_count": 3,
     "metadata": {},
     "output_type": "execute_result"
    }
   ],
   "source": [
    "df = df.drop(['Unnamed: 0'], axis=1)\n",
    "df.head(2)"
   ]
  },
  {
   "cell_type": "markdown",
   "metadata": {},
   "source": [
    "#### Data Cleaning\n",
    "by guide from ChatGPT with GPT-4 described [here](https://a113ssa.github.io/writeup/writeup-3/)"
   ]
  },
  {
   "cell_type": "markdown",
   "metadata": {},
   "source": [
    "1. Data Exploration:"
   ]
  },
  {
   "cell_type": "code",
   "execution_count": 4,
   "metadata": {
    "execution": {
     "iopub.execute_input": "2023-03-25T01:29:48.652898Z",
     "iopub.status.busy": "2023-03-25T01:29:48.652444Z",
     "iopub.status.idle": "2023-03-25T01:29:48.674467Z",
     "shell.execute_reply": "2023-03-25T01:29:48.673238Z",
     "shell.execute_reply.started": "2023-03-25T01:29:48.652851Z"
    }
   },
   "outputs": [
    {
     "name": "stdout",
     "output_type": "stream",
     "text": [
      "General info:\n",
      "            Rating\n",
      "count  1499.000000\n",
      "mean      3.719346\n",
      "std       0.532608\n",
      "min       0.700000\n",
      "25%       3.400000\n",
      "50%       3.800000\n",
      "75%       4.100000\n",
      "max       4.800000\n",
      "\n",
      "Data types:\n",
      "Title                 object\n",
      "Release Date          object\n",
      "Team                  object\n",
      "Rating               float64\n",
      "Times Listed          object\n",
      "Number of Reviews     object\n",
      "Genres                object\n",
      "Summary               object\n",
      "Reviews               object\n",
      "Plays                 object\n",
      "Playing               object\n",
      "Backlogs              object\n",
      "Wishlist              object\n",
      "dtype: object\n",
      "\n",
      "NAN values:\n",
      "Title                 0\n",
      "Release Date          0\n",
      "Team                  1\n",
      "Rating               13\n",
      "Times Listed          0\n",
      "Number of Reviews     0\n",
      "Genres                0\n",
      "Summary               1\n",
      "Reviews               0\n",
      "Plays                 0\n",
      "Playing               0\n",
      "Backlogs              0\n",
      "Wishlist              0\n",
      "dtype: int64\n",
      "\n",
      "Columns info:\n",
      "['Title', 'Release Date', 'Team', 'Rating', 'Times Listed', 'Number of Reviews', 'Genres', 'Summary', 'Reviews', 'Plays', 'Playing', 'Backlogs', 'Wishlist']\n"
     ]
    }
   ],
   "source": [
    "print(f'General info:\\n{df.describe()}')\n",
    "print()\n",
    "print(f'Data types:\\n{df.dtypes}')\n",
    "print()\n",
    "print(f'NAN values:\\n{df.isna().sum()}')\n",
    "print()\n",
    "print(f'Columns info:\\n{df.columns.to_list()}')"
   ]
  },
  {
   "cell_type": "markdown",
   "metadata": {
    "execution": {
     "iopub.execute_input": "2023-03-23T18:13:36.425452Z",
     "iopub.status.busy": "2023-03-23T18:13:36.425129Z",
     "iopub.status.idle": "2023-03-23T18:13:36.434120Z",
     "shell.execute_reply": "2023-03-23T18:13:36.432944Z",
     "shell.execute_reply.started": "2023-03-23T18:13:36.425426Z"
    }
   },
   "source": [
    "2. Handling Missing Values"
   ]
  },
  {
   "cell_type": "code",
   "execution_count": 5,
   "metadata": {
    "execution": {
     "iopub.execute_input": "2023-03-25T01:29:48.678074Z",
     "iopub.status.busy": "2023-03-25T01:29:48.677720Z",
     "iopub.status.idle": "2023-03-25T01:29:48.690852Z",
     "shell.execute_reply": "2023-03-25T01:29:48.689506Z",
     "shell.execute_reply.started": "2023-03-25T01:29:48.678041Z"
    }
   },
   "outputs": [],
   "source": [
    "# Model-based imputation (using KNNImputer from sklearn) of Rating data\n",
    "from sklearn.impute import KNNImputer\n",
    "imputer = KNNImputer(n_neighbors=5)\n",
    "df['Rating'] = imputer.fit_transform(df[['Rating']])"
   ]
  },
  {
   "cell_type": "code",
   "execution_count": 6,
   "metadata": {
    "execution": {
     "iopub.execute_input": "2023-03-25T01:29:48.692861Z",
     "iopub.status.busy": "2023-03-25T01:29:48.692499Z",
     "iopub.status.idle": "2023-03-25T01:29:48.703898Z",
     "shell.execute_reply": "2023-03-25T01:29:48.702556Z",
     "shell.execute_reply.started": "2023-03-25T01:29:48.692828Z"
    }
   },
   "outputs": [
    {
     "name": "stdout",
     "output_type": "stream",
     "text": [
      "Game with no data about Team: [\"NEET Girl Date Night,['Visual Novel']\"]\n"
     ]
    }
   ],
   "source": [
    "# Check what Game is without Team data\n",
    "x = df[df.Team.isna()][['Title', 'Genres']]\n",
    "games_without_team = x.to_csv(header=None, index=False).strip('\\n').split('\\n')\n",
    "print(f'Game with no data about Team: {games_without_team}')"
   ]
  },
  {
   "cell_type": "code",
   "execution_count": 7,
   "metadata": {
    "execution": {
     "iopub.execute_input": "2023-03-25T01:29:48.705720Z",
     "iopub.status.busy": "2023-03-25T01:29:48.705391Z",
     "iopub.status.idle": "2023-03-25T01:29:48.721169Z",
     "shell.execute_reply": "2023-03-25T01:29:48.720157Z",
     "shell.execute_reply.started": "2023-03-25T01:29:48.705690Z"
    }
   },
   "outputs": [
    {
     "data": {
      "text/plain": [
       "Title                0\n",
       "Release Date         0\n",
       "Team                 0\n",
       "Rating               0\n",
       "Times Listed         0\n",
       "Number of Reviews    0\n",
       "Genres               0\n",
       "Summary              1\n",
       "Reviews              0\n",
       "Plays                0\n",
       "Playing              0\n",
       "Backlogs             0\n",
       "Wishlist             0\n",
       "dtype: int64"
      ]
     },
     "execution_count": 7,
     "metadata": {},
     "output_type": "execute_result"
    }
   ],
   "source": [
    "# Fill Team by an empty string\n",
    "df.Team = df.Team.fillna('')\n",
    "df.isna().sum()"
   ]
  },
  {
   "cell_type": "markdown",
   "metadata": {},
   "source": [
    "3. Data Transformation"
   ]
  },
  {
   "cell_type": "code",
   "execution_count": 8,
   "metadata": {
    "execution": {
     "iopub.execute_input": "2023-03-25T01:29:48.724929Z",
     "iopub.status.busy": "2023-03-25T01:29:48.723300Z",
     "iopub.status.idle": "2023-03-25T01:29:48.754536Z",
     "shell.execute_reply": "2023-03-25T01:29:48.753236Z",
     "shell.execute_reply.started": "2023-03-25T01:29:48.724892Z"
    }
   },
   "outputs": [
    {
     "data": {
      "text/html": [
       "<div>\n",
       "<style scoped>\n",
       "    .dataframe tbody tr th:only-of-type {\n",
       "        vertical-align: middle;\n",
       "    }\n",
       "\n",
       "    .dataframe tbody tr th {\n",
       "        vertical-align: top;\n",
       "    }\n",
       "\n",
       "    .dataframe thead th {\n",
       "        text-align: right;\n",
       "    }\n",
       "</style>\n",
       "<table border=\"1\" class=\"dataframe\">\n",
       "  <thead>\n",
       "    <tr style=\"text-align: right;\">\n",
       "      <th></th>\n",
       "      <th>Title</th>\n",
       "      <th>Release Date</th>\n",
       "      <th>Team</th>\n",
       "      <th>Rating</th>\n",
       "      <th>Times Listed</th>\n",
       "      <th>Number of Reviews</th>\n",
       "      <th>Genres</th>\n",
       "      <th>Summary</th>\n",
       "      <th>Reviews</th>\n",
       "      <th>Plays</th>\n",
       "      <th>Playing</th>\n",
       "      <th>Backlogs</th>\n",
       "      <th>Wishlist</th>\n",
       "    </tr>\n",
       "  </thead>\n",
       "  <tbody>\n",
       "    <tr>\n",
       "      <th>0</th>\n",
       "      <td>Elden Ring</td>\n",
       "      <td>Feb 25, 2022</td>\n",
       "      <td>['Bandai Namco Entertainment', 'FromSoftware']</td>\n",
       "      <td>4.5</td>\n",
       "      <td>3900</td>\n",
       "      <td>3900</td>\n",
       "      <td>['Adventure', 'RPG']</td>\n",
       "      <td>Elden Ring is a fantasy, action and open world...</td>\n",
       "      <td>[\"The first playthrough of elden ring is one o...</td>\n",
       "      <td>17000</td>\n",
       "      <td>3800</td>\n",
       "      <td>4600</td>\n",
       "      <td>4800</td>\n",
       "    </tr>\n",
       "    <tr>\n",
       "      <th>1</th>\n",
       "      <td>Hades</td>\n",
       "      <td>Dec 10, 2019</td>\n",
       "      <td>['Supergiant Games']</td>\n",
       "      <td>4.3</td>\n",
       "      <td>2900</td>\n",
       "      <td>2900</td>\n",
       "      <td>['Adventure', 'Brawler', 'Indie', 'RPG']</td>\n",
       "      <td>A rogue-lite hack and slash dungeon crawler in...</td>\n",
       "      <td>['convinced this is a roguelike for people who...</td>\n",
       "      <td>21000</td>\n",
       "      <td>3200</td>\n",
       "      <td>6300</td>\n",
       "      <td>3600</td>\n",
       "    </tr>\n",
       "    <tr>\n",
       "      <th>2</th>\n",
       "      <td>The Legend of Zelda: Breath of the Wild</td>\n",
       "      <td>Mar 03, 2017</td>\n",
       "      <td>['Nintendo', 'Nintendo EPD Production Group No...</td>\n",
       "      <td>4.4</td>\n",
       "      <td>4300</td>\n",
       "      <td>4300</td>\n",
       "      <td>['Adventure', 'RPG']</td>\n",
       "      <td>The Legend of Zelda: Breath of the Wild is the...</td>\n",
       "      <td>['This game is the game (that is not CS:GO) th...</td>\n",
       "      <td>30000</td>\n",
       "      <td>2500</td>\n",
       "      <td>5000</td>\n",
       "      <td>2600</td>\n",
       "    </tr>\n",
       "    <tr>\n",
       "      <th>3</th>\n",
       "      <td>Undertale</td>\n",
       "      <td>Sep 15, 2015</td>\n",
       "      <td>['tobyfox', '8-4']</td>\n",
       "      <td>4.2</td>\n",
       "      <td>3500</td>\n",
       "      <td>3500</td>\n",
       "      <td>['Adventure', 'Indie', 'RPG', 'Turn Based Stra...</td>\n",
       "      <td>A small child falls into the Underground, wher...</td>\n",
       "      <td>['soundtrack is tied for #1 with nier automata...</td>\n",
       "      <td>28000</td>\n",
       "      <td>679</td>\n",
       "      <td>4900</td>\n",
       "      <td>1800</td>\n",
       "    </tr>\n",
       "  </tbody>\n",
       "</table>\n",
       "</div>"
      ],
      "text/plain": [
       "                                     Title  Release Date  \\\n",
       "0                               Elden Ring  Feb 25, 2022   \n",
       "1                                    Hades  Dec 10, 2019   \n",
       "2  The Legend of Zelda: Breath of the Wild  Mar 03, 2017   \n",
       "3                                Undertale  Sep 15, 2015   \n",
       "\n",
       "                                                Team  Rating Times Listed  \\\n",
       "0     ['Bandai Namco Entertainment', 'FromSoftware']     4.5         3900   \n",
       "1                               ['Supergiant Games']     4.3         2900   \n",
       "2  ['Nintendo', 'Nintendo EPD Production Group No...     4.4         4300   \n",
       "3                                 ['tobyfox', '8-4']     4.2         3500   \n",
       "\n",
       "  Number of Reviews                                             Genres  \\\n",
       "0              3900                               ['Adventure', 'RPG']   \n",
       "1              2900           ['Adventure', 'Brawler', 'Indie', 'RPG']   \n",
       "2              4300                               ['Adventure', 'RPG']   \n",
       "3              3500  ['Adventure', 'Indie', 'RPG', 'Turn Based Stra...   \n",
       "\n",
       "                                             Summary  \\\n",
       "0  Elden Ring is a fantasy, action and open world...   \n",
       "1  A rogue-lite hack and slash dungeon crawler in...   \n",
       "2  The Legend of Zelda: Breath of the Wild is the...   \n",
       "3  A small child falls into the Underground, wher...   \n",
       "\n",
       "                                             Reviews  Plays Playing Backlogs  \\\n",
       "0  [\"The first playthrough of elden ring is one o...  17000    3800     4600   \n",
       "1  ['convinced this is a roguelike for people who...  21000    3200     6300   \n",
       "2  ['This game is the game (that is not CS:GO) th...  30000    2500     5000   \n",
       "3  ['soundtrack is tied for #1 with nier automata...  28000     679     4900   \n",
       "\n",
       "  Wishlist  \n",
       "0     4800  \n",
       "1     3600  \n",
       "2     2600  \n",
       "3     1800  "
      ]
     },
     "execution_count": 8,
     "metadata": {},
     "output_type": "execute_result"
    }
   ],
   "source": [
    "#Change K to *1000\n",
    "def convert_to_thousand(x):\n",
    "    if('K' in x):\n",
    "        if len(x)>1:\n",
    "            return int(float(x.replace('K', '')) * 1000)\n",
    "        else:\n",
    "            return 1000\n",
    "    else:\n",
    "        return x\n",
    "    \n",
    "target_features = ['Times Listed', 'Number of Reviews', 'Plays', 'Playing', 'Backlogs', 'Wishlist']\n",
    "\n",
    "for i in target_features:\n",
    "    df[i] = df[i].apply(lambda x: convert_to_thousand(x))\n",
    "            \n",
    "df.head(4)"
   ]
  },
  {
   "cell_type": "code",
   "execution_count": 9,
   "metadata": {
    "execution": {
     "iopub.execute_input": "2023-03-25T01:29:48.756826Z",
     "iopub.status.busy": "2023-03-25T01:29:48.756224Z",
     "iopub.status.idle": "2023-03-25T01:29:48.787362Z",
     "shell.execute_reply": "2023-03-25T01:29:48.785935Z",
     "shell.execute_reply.started": "2023-03-25T01:29:48.756779Z"
    }
   },
   "outputs": [
    {
     "data": {
      "text/html": [
       "<div>\n",
       "<style scoped>\n",
       "    .dataframe tbody tr th:only-of-type {\n",
       "        vertical-align: middle;\n",
       "    }\n",
       "\n",
       "    .dataframe tbody tr th {\n",
       "        vertical-align: top;\n",
       "    }\n",
       "\n",
       "    .dataframe thead th {\n",
       "        text-align: right;\n",
       "    }\n",
       "</style>\n",
       "<table border=\"1\" class=\"dataframe\">\n",
       "  <thead>\n",
       "    <tr style=\"text-align: right;\">\n",
       "      <th></th>\n",
       "      <th>Title</th>\n",
       "      <th>Release Date</th>\n",
       "      <th>Team</th>\n",
       "      <th>Rating</th>\n",
       "      <th>Times Listed</th>\n",
       "      <th>Number of Reviews</th>\n",
       "      <th>Genres</th>\n",
       "      <th>Summary</th>\n",
       "      <th>Reviews</th>\n",
       "      <th>Plays</th>\n",
       "      <th>Playing</th>\n",
       "      <th>Backlogs</th>\n",
       "      <th>Wishlist</th>\n",
       "      <th>Team_Encoded</th>\n",
       "      <th>Genres_Encoded</th>\n",
       "      <th>Date_Encoded</th>\n",
       "    </tr>\n",
       "  </thead>\n",
       "  <tbody>\n",
       "    <tr>\n",
       "      <th>0</th>\n",
       "      <td>Elden Ring</td>\n",
       "      <td>Feb 25, 2022</td>\n",
       "      <td>['Bandai Namco Entertainment', 'FromSoftware']</td>\n",
       "      <td>4.5</td>\n",
       "      <td>3900</td>\n",
       "      <td>3900</td>\n",
       "      <td>['Adventure', 'RPG']</td>\n",
       "      <td>Elden Ring is a fantasy, action and open world...</td>\n",
       "      <td>[\"The first playthrough of elden ring is one o...</td>\n",
       "      <td>17000</td>\n",
       "      <td>3800</td>\n",
       "      <td>4600</td>\n",
       "      <td>4800</td>\n",
       "      <td>80</td>\n",
       "      <td>119</td>\n",
       "      <td>280</td>\n",
       "    </tr>\n",
       "    <tr>\n",
       "      <th>1</th>\n",
       "      <td>Hades</td>\n",
       "      <td>Dec 10, 2019</td>\n",
       "      <td>['Supergiant Games']</td>\n",
       "      <td>4.3</td>\n",
       "      <td>2900</td>\n",
       "      <td>2900</td>\n",
       "      <td>['Adventure', 'Brawler', 'Indie', 'RPG']</td>\n",
       "      <td>A rogue-lite hack and slash dungeon crawler in...</td>\n",
       "      <td>['convinced this is a roguelike for people who...</td>\n",
       "      <td>21000</td>\n",
       "      <td>3200</td>\n",
       "      <td>6300</td>\n",
       "      <td>3600</td>\n",
       "      <td>641</td>\n",
       "      <td>21</td>\n",
       "      <td>165</td>\n",
       "    </tr>\n",
       "    <tr>\n",
       "      <th>2</th>\n",
       "      <td>The Legend of Zelda: Breath of the Wild</td>\n",
       "      <td>Mar 03, 2017</td>\n",
       "      <td>['Nintendo', 'Nintendo EPD Production Group No...</td>\n",
       "      <td>4.4</td>\n",
       "      <td>4300</td>\n",
       "      <td>4300</td>\n",
       "      <td>['Adventure', 'RPG']</td>\n",
       "      <td>The Legend of Zelda: Breath of the Wild is the...</td>\n",
       "      <td>['This game is the game (that is not CS:GO) th...</td>\n",
       "      <td>30000</td>\n",
       "      <td>2500</td>\n",
       "      <td>5000</td>\n",
       "      <td>2600</td>\n",
       "      <td>459</td>\n",
       "      <td>119</td>\n",
       "      <td>481</td>\n",
       "    </tr>\n",
       "  </tbody>\n",
       "</table>\n",
       "</div>"
      ],
      "text/plain": [
       "                                     Title  Release Date  \\\n",
       "0                               Elden Ring  Feb 25, 2022   \n",
       "1                                    Hades  Dec 10, 2019   \n",
       "2  The Legend of Zelda: Breath of the Wild  Mar 03, 2017   \n",
       "\n",
       "                                                Team  Rating Times Listed  \\\n",
       "0     ['Bandai Namco Entertainment', 'FromSoftware']     4.5         3900   \n",
       "1                               ['Supergiant Games']     4.3         2900   \n",
       "2  ['Nintendo', 'Nintendo EPD Production Group No...     4.4         4300   \n",
       "\n",
       "  Number of Reviews                                    Genres  \\\n",
       "0              3900                      ['Adventure', 'RPG']   \n",
       "1              2900  ['Adventure', 'Brawler', 'Indie', 'RPG']   \n",
       "2              4300                      ['Adventure', 'RPG']   \n",
       "\n",
       "                                             Summary  \\\n",
       "0  Elden Ring is a fantasy, action and open world...   \n",
       "1  A rogue-lite hack and slash dungeon crawler in...   \n",
       "2  The Legend of Zelda: Breath of the Wild is the...   \n",
       "\n",
       "                                             Reviews  Plays Playing Backlogs  \\\n",
       "0  [\"The first playthrough of elden ring is one o...  17000    3800     4600   \n",
       "1  ['convinced this is a roguelike for people who...  21000    3200     6300   \n",
       "2  ['This game is the game (that is not CS:GO) th...  30000    2500     5000   \n",
       "\n",
       "  Wishlist  Team_Encoded  Genres_Encoded  Date_Encoded  \n",
       "0     4800            80             119           280  \n",
       "1     3600           641              21           165  \n",
       "2     2600           459             119           481  "
      ]
     },
     "execution_count": 9,
     "metadata": {},
     "output_type": "execute_result"
    }
   ],
   "source": [
    "from sklearn.preprocessing import LabelEncoder\n",
    "\n",
    "# Preprocessing steps\n",
    "df['Team_Encoded'] = LabelEncoder().fit_transform(df['Team'])\n",
    "df['Genres_Encoded'] = LabelEncoder().fit_transform(df['Genres'])\n",
    "df['Date_Encoded'] = LabelEncoder().fit_transform(df['Release Date'])\n",
    "df.head(3)"
   ]
  },
  {
   "cell_type": "code",
   "execution_count": 10,
   "metadata": {
    "execution": {
     "iopub.execute_input": "2023-03-25T01:29:48.792887Z",
     "iopub.status.busy": "2023-03-25T01:29:48.792480Z",
     "iopub.status.idle": "2023-03-25T01:29:48.984801Z",
     "shell.execute_reply": "2023-03-25T01:29:48.983439Z",
     "shell.execute_reply.started": "2023-03-25T01:29:48.792850Z"
    }
   },
   "outputs": [
    {
     "data": {
      "text/html": [
       "<div>\n",
       "<style scoped>\n",
       "    .dataframe tbody tr th:only-of-type {\n",
       "        vertical-align: middle;\n",
       "    }\n",
       "\n",
       "    .dataframe tbody tr th {\n",
       "        vertical-align: top;\n",
       "    }\n",
       "\n",
       "    .dataframe thead th {\n",
       "        text-align: right;\n",
       "    }\n",
       "</style>\n",
       "<table border=\"1\" class=\"dataframe\">\n",
       "  <thead>\n",
       "    <tr style=\"text-align: right;\">\n",
       "      <th></th>\n",
       "      <th>Title</th>\n",
       "      <th>Release Date</th>\n",
       "      <th>Team</th>\n",
       "      <th>Rating</th>\n",
       "      <th>Times Listed</th>\n",
       "      <th>Number of Reviews</th>\n",
       "      <th>Genres</th>\n",
       "      <th>Summary</th>\n",
       "      <th>Reviews</th>\n",
       "      <th>Plays</th>\n",
       "      <th>Playing</th>\n",
       "      <th>Backlogs</th>\n",
       "      <th>Wishlist</th>\n",
       "      <th>Team_Encoded</th>\n",
       "      <th>Genres_Encoded</th>\n",
       "      <th>Date_Encoded</th>\n",
       "    </tr>\n",
       "  </thead>\n",
       "  <tbody>\n",
       "    <tr>\n",
       "      <th>0</th>\n",
       "      <td>Elden Ring</td>\n",
       "      <td>2022-02-25</td>\n",
       "      <td>['Bandai Namco Entertainment', 'FromSoftware']</td>\n",
       "      <td>4.5</td>\n",
       "      <td>3900</td>\n",
       "      <td>3900</td>\n",
       "      <td>['Adventure', 'RPG']</td>\n",
       "      <td>Elden Ring is a fantasy, action and open world...</td>\n",
       "      <td>[\"The first playthrough of elden ring is one o...</td>\n",
       "      <td>17000</td>\n",
       "      <td>3800</td>\n",
       "      <td>4600</td>\n",
       "      <td>4800</td>\n",
       "      <td>80</td>\n",
       "      <td>119</td>\n",
       "      <td>280</td>\n",
       "    </tr>\n",
       "    <tr>\n",
       "      <th>1</th>\n",
       "      <td>Hades</td>\n",
       "      <td>2019-12-10</td>\n",
       "      <td>['Supergiant Games']</td>\n",
       "      <td>4.3</td>\n",
       "      <td>2900</td>\n",
       "      <td>2900</td>\n",
       "      <td>['Adventure', 'Brawler', 'Indie', 'RPG']</td>\n",
       "      <td>A rogue-lite hack and slash dungeon crawler in...</td>\n",
       "      <td>['convinced this is a roguelike for people who...</td>\n",
       "      <td>21000</td>\n",
       "      <td>3200</td>\n",
       "      <td>6300</td>\n",
       "      <td>3600</td>\n",
       "      <td>641</td>\n",
       "      <td>21</td>\n",
       "      <td>165</td>\n",
       "    </tr>\n",
       "    <tr>\n",
       "      <th>2</th>\n",
       "      <td>The Legend of Zelda: Breath of the Wild</td>\n",
       "      <td>2017-03-03</td>\n",
       "      <td>['Nintendo', 'Nintendo EPD Production Group No...</td>\n",
       "      <td>4.4</td>\n",
       "      <td>4300</td>\n",
       "      <td>4300</td>\n",
       "      <td>['Adventure', 'RPG']</td>\n",
       "      <td>The Legend of Zelda: Breath of the Wild is the...</td>\n",
       "      <td>['This game is the game (that is not CS:GO) th...</td>\n",
       "      <td>30000</td>\n",
       "      <td>2500</td>\n",
       "      <td>5000</td>\n",
       "      <td>2600</td>\n",
       "      <td>459</td>\n",
       "      <td>119</td>\n",
       "      <td>481</td>\n",
       "    </tr>\n",
       "  </tbody>\n",
       "</table>\n",
       "</div>"
      ],
      "text/plain": [
       "                                     Title Release Date  \\\n",
       "0                               Elden Ring   2022-02-25   \n",
       "1                                    Hades   2019-12-10   \n",
       "2  The Legend of Zelda: Breath of the Wild   2017-03-03   \n",
       "\n",
       "                                                Team  Rating Times Listed  \\\n",
       "0     ['Bandai Namco Entertainment', 'FromSoftware']     4.5         3900   \n",
       "1                               ['Supergiant Games']     4.3         2900   \n",
       "2  ['Nintendo', 'Nintendo EPD Production Group No...     4.4         4300   \n",
       "\n",
       "  Number of Reviews                                    Genres  \\\n",
       "0              3900                      ['Adventure', 'RPG']   \n",
       "1              2900  ['Adventure', 'Brawler', 'Indie', 'RPG']   \n",
       "2              4300                      ['Adventure', 'RPG']   \n",
       "\n",
       "                                             Summary  \\\n",
       "0  Elden Ring is a fantasy, action and open world...   \n",
       "1  A rogue-lite hack and slash dungeon crawler in...   \n",
       "2  The Legend of Zelda: Breath of the Wild is the...   \n",
       "\n",
       "                                             Reviews  Plays Playing Backlogs  \\\n",
       "0  [\"The first playthrough of elden ring is one o...  17000    3800     4600   \n",
       "1  ['convinced this is a roguelike for people who...  21000    3200     6300   \n",
       "2  ['This game is the game (that is not CS:GO) th...  30000    2500     5000   \n",
       "\n",
       "  Wishlist  Team_Encoded  Genres_Encoded  Date_Encoded  \n",
       "0     4800            80             119           280  \n",
       "1     3600           641              21           165  \n",
       "2     2600           459             119           481  "
      ]
     },
     "execution_count": 10,
     "metadata": {},
     "output_type": "execute_result"
    }
   ],
   "source": [
    "df['Release Date'] = pd.to_datetime(df['Release Date'], errors='coerce').dt.date\n",
    "df.head(3)"
   ]
  },
  {
   "cell_type": "markdown",
   "metadata": {
    "execution": {
     "iopub.execute_input": "2023-03-23T19:29:27.981680Z",
     "iopub.status.busy": "2023-03-23T19:29:27.981219Z",
     "iopub.status.idle": "2023-03-23T19:29:28.003833Z",
     "shell.execute_reply": "2023-03-23T19:29:28.002641Z",
     "shell.execute_reply.started": "2023-03-23T19:29:27.981636Z"
    }
   },
   "source": [
    "4. Handling Outliers <br>\n",
    "with the helpt of guide generated by ChatGPT with GPT-4 [here](https://a113ssa.github.io/learn-with-gpt4/handling-outliers/)"
   ]
  },
  {
   "cell_type": "code",
   "execution_count": 11,
   "metadata": {
    "execution": {
     "iopub.execute_input": "2023-03-25T01:29:48.988572Z",
     "iopub.status.busy": "2023-03-25T01:29:48.987575Z",
     "iopub.status.idle": "2023-03-25T01:29:49.293447Z",
     "shell.execute_reply": "2023-03-25T01:29:49.292553Z",
     "shell.execute_reply.started": "2023-03-25T01:29:48.988516Z"
    }
   },
   "outputs": [
    {
     "data": {
      "image/png": "[encoded data removed]",
      "text/plain": [
       "<Figure size 1500x1000 with 1 Axes>"
      ]
     },
     "metadata": {},
     "output_type": "display_data"
    }
   ],
   "source": [
    "sns.set(style='whitegrid', palette='muted')\n",
    "plt.figure(figsize=(15, 10))\n",
    "sns.boxplot(data=df)\n",
    "plt.xticks(rotation=45)\n",
    "plt.show()"
   ]
  },
  {
   "cell_type": "code",
   "execution_count": 12,
   "metadata": {
    "execution": {
     "iopub.execute_input": "2023-03-25T01:29:49.295691Z",
     "iopub.status.busy": "2023-03-25T01:29:49.294772Z",
     "iopub.status.idle": "2023-03-25T01:29:49.305457Z",
     "shell.execute_reply": "2023-03-25T01:29:49.304609Z",
     "shell.execute_reply.started": "2023-03-25T01:29:49.295655Z"
    }
   },
   "outputs": [
    {
     "name": "stdout",
     "output_type": "stream",
     "text": [
      "Number of outliers: 25\n"
     ]
    }
   ],
   "source": [
    "def detect_outliers_iqr(data, threshold=1.5):\n",
    "    Q1 = data.quantile(0.25)\n",
    "    Q3 = data.quantile(0.75)\n",
    "    IQR = Q3 - Q1\n",
    "    lower_bound = Q1 - threshold * IQR\n",
    "    upper_bound = Q3 + threshold * IQR\n",
    "    return ((data < lower_bound) | (data > upper_bound))\n",
    "\n",
    "outliers = detect_outliers_iqr(df['Rating'])\n",
    "print(f\"Number of outliers: {outliers.sum()}\")"
   ]
  },
  {
   "cell_type": "markdown",
   "metadata": {},
   "source": [
    "Validate approach by comparing the performance of a model trained on the original data and the cleaned data:\n"
   ]
  },
  {
   "cell_type": "code",
   "execution_count": 13,
   "metadata": {
    "execution": {
     "iopub.execute_input": "2023-03-25T01:29:49.307307Z",
     "iopub.status.busy": "2023-03-25T01:29:49.306727Z",
     "iopub.status.idle": "2023-03-25T01:29:49.351193Z",
     "shell.execute_reply": "2023-03-25T01:29:49.349659Z",
     "shell.execute_reply.started": "2023-03-25T01:29:49.307270Z"
    }
   },
   "outputs": [
    {
     "name": "stdout",
     "output_type": "stream",
     "text": [
      "Mean squared error (original data): 0.1378845307024973\n",
      "Mean squared error (cleaned data): 0.16206285521314104\n"
     ]
    }
   ],
   "source": [
    "from sklearn.model_selection import train_test_split\n",
    "from sklearn.linear_model import LinearRegression\n",
    "from sklearn.metrics import mean_squared_error\n",
    "\n",
    "not_used_features = ['Rating', 'Title', 'Team', 'Genres', 'Release Date', 'Reviews', 'Summary']\n",
    "X = df.drop(not_used_features, axis=1)\n",
    "y = df['Rating']\n",
    "X_train, X_test, y_train, y_test = train_test_split(X, y, test_size=0.2, random_state=42)\n",
    "\n",
    "# Model trained on original data\n",
    "lr = LinearRegression()\n",
    "lr.fit(X_train, y_train)\n",
    "y_pred = lr.predict(X_test)\n",
    "mse = mean_squared_error(y_test, y_pred)\n",
    "print(f\"Mean squared error (original data): {mse}\")\n",
    "\n",
    "data_no_outliers = df[~outliers]\n",
    "\n",
    "X_no_outliers = data_no_outliers.drop(not_used_features, axis=1)\n",
    "y_no_outliers = data_no_outliers['Rating']\n",
    "X_train_no, X_test_no, y_train_no, y_test_no = train_test_split(X_no_outliers, y_no_outliers, test_size=0.2, random_state=42)\n",
    "\n",
    "# Model trained on cleaned data\n",
    "lr_no_outliers = LinearRegression()\n",
    "lr_no_outliers.fit(X_train_no, y_train_no)\n",
    "y_pred_no = lr_no_outliers.predict(X_test_no)\n",
    "mse_no_outliers = mean_squared_error(y_test_no, y_pred_no)\n",
    "print(f\"Mean squared error (cleaned data): {mse_no_outliers}\")\n"
   ]
  },
  {
   "cell_type": "markdown",
   "metadata": {},
   "source": [
    "Lower MSE values indicate better model performance, as they imply smaller differences between the predicted and actual values. In this specific example, the model trained on the original data has a slightly better performance (lower MSE) than the model trained on the cleaned data."
   ]
  },
  {
   "cell_type": "code",
   "execution_count": null,
   "metadata": {},
   "outputs": [],
   "source": []
  }
 ],
 "metadata": {
  "kernelspec": {
   "display_name": "Python 3 (ipykernel)",
   "language": "python",
   "name": "python3"
  },
  "language_info": {
   "codemirror_mode": {
    "name": "ipython",
    "version": 3
   },
   "file_extension": ".py",
   "mimetype": "text/x-python",
   "name": "python",
   "nbconvert_exporter": "python",
   "pygments_lexer": "ipython3",
   "version": "3.10.9"
  }
 },
 "nbformat": 4,
 "nbformat_minor": 4
}
